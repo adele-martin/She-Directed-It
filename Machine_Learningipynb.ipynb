{
 "cells": [
  {
   "attachments": {},
   "cell_type": "markdown",
   "metadata": {},
   "source": [
    "## Importing libraries"
   ]
  },
  {
   "cell_type": "code",
   "execution_count": 612,
   "metadata": {},
   "outputs": [],
   "source": [
    "import pandas as pd\n",
    "import numpy as np\n",
    "from scipy.sparse import csr_matrix\n",
    "from sklearn.preprocessing import Normalizer\n",
    "from sklearn.decomposition import TruncatedSVD\n",
    "from sklearn.neighbors import NearestNeighbors\n",
    "from scipy.sparse import hstack\n",
    "from nltk.stem.snowball import EnglishStemmer\n",
    "from sklearn.feature_extraction.text import CountVectorizer\n",
    "from sklearn.feature_extraction._stop_words import ENGLISH_STOP_WORDS\n",
    "films = pd.read_csv('films_clean.csv')\n"
   ]
  },
  {
   "attachments": {},
   "cell_type": "markdown",
   "metadata": {},
   "source": [
    "## Defining Features for Machine Learning"
   ]
  },
  {
   "cell_type": "code",
   "execution_count": 564,
   "metadata": {},
   "outputs": [
    {
     "data": {
      "text/plain": [
       "Index(['genres', 'id', 'original_language', 'original_title', 'overview',\n",
       "       'popularity', 'production_companies', 'production_countries', 'runtime',\n",
       "       'spoken_languages', 'title', 'year', 'director', 'director_gender'],\n",
       "      dtype='object')"
      ]
     },
     "execution_count": 564,
     "metadata": {},
     "output_type": "execute_result"
    }
   ],
   "source": [
    "films.columns"
   ]
  },
  {
   "cell_type": "code",
   "execution_count": 565,
   "metadata": {},
   "outputs": [],
   "source": [
    "#Dropping all columns I won't need and keeping other for feature engineering\n",
    "films = films.drop(columns= ['original_title', 'original_language', 'production_companies','runtime','spoken_languages', 'director'])"
   ]
  },
  {
   "attachments": {},
   "cell_type": "markdown",
   "metadata": {},
   "source": [
    "## Dropping null values"
   ]
  },
  {
   "cell_type": "code",
   "execution_count": 566,
   "metadata": {},
   "outputs": [],
   "source": [
    "#Drop the movies without a description. I kept them so far because they were analyzed in the EDA.\n",
    "films = films.drop(films[films['overview'] == 'No overview found.'].index)"
   ]
  },
  {
   "attachments": {},
   "cell_type": "markdown",
   "metadata": {},
   "source": [
    "## Splitting the dataset"
   ]
  },
  {
   "cell_type": "code",
   "execution_count": 613,
   "metadata": {},
   "outputs": [],
   "source": [
    "# Split the dataset into male directed and female directed movies\n",
    "female_directed= films[films['director_gender']== 'female']\n",
    "male_directed= films[films['director_gender']== 'male']"
   ]
  },
  {
   "cell_type": "code",
   "execution_count": 568,
   "metadata": {},
   "outputs": [
    {
     "name": "stderr",
     "output_type": "stream",
     "text": [
      "/var/folders/_s/5ccjvt852hv4ddn7j5mrvy1m0000gn/T/ipykernel_3506/1520692368.py:5: SettingWithCopyWarning: \n",
      "A value is trying to be set on a copy of a slice from a DataFrame\n",
      "\n",
      "See the caveats in the documentation: https://pandas.pydata.org/pandas-docs/stable/user_guide/indexing.html#returning-a-view-versus-a-copy\n",
      "  female_directed.drop(index_to_drop, inplace=True)\n"
     ]
    }
   ],
   "source": [
    "#Dropping the movies with erroneous movies summaries\n",
    "index_to_drop = female_directed[female_directed['title'] == 'Tomorrow'].index\n",
    "index_to_drop = female_directed[female_directed['title'] == 'Titanic'].index\n",
    "index_to_drop = female_directed[female_directed['title'] == 'Lily Sometimes'].index\n",
    "female_directed.drop(index_to_drop, inplace=True)"
   ]
  },
  {
   "attachments": {},
   "cell_type": "markdown",
   "metadata": {},
   "source": [
    "## Vectorizing Categorical Data"
   ]
  },
  {
   "cell_type": "code",
   "execution_count": 569,
   "metadata": {},
   "outputs": [
    {
     "data": {
      "text/plain": [
       "genres                   object\n",
       "id                        int64\n",
       "overview                 object\n",
       "popularity              float64\n",
       "production_countries     object\n",
       "title                    object\n",
       "year                      int64\n",
       "director_gender          object\n",
       "dtype: object"
      ]
     },
     "execution_count": 569,
     "metadata": {},
     "output_type": "execute_result"
    }
   ],
   "source": [
    "#We will vectorize the 'genres' column\n",
    "films.dtypes"
   ]
  },
  {
   "cell_type": "code",
   "execution_count": 570,
   "metadata": {},
   "outputs": [],
   "source": [
    "genre_vectorizer = CountVectorizer()\n",
    "genre_vectorizer.fit(films['genres'])\n",
    "male_genres = genre_vectorizer.transform(male_directed['genres']).toarray()\n",
    "female_genres = genre_vectorizer.transform(female_directed['genres']).toarray()"
   ]
  },
  {
   "cell_type": "code",
   "execution_count": 571,
   "metadata": {},
   "outputs": [
    {
     "data": {
      "text/plain": [
       "{'comedy': 3,\n",
       " 'romance': 14,\n",
       " 'horror': 11,\n",
       " 'action': 0,\n",
       " 'adventure': 1,\n",
       " 'drama': 6,\n",
       " 'crime': 4,\n",
       " 'thriller': 16,\n",
       " 'fantasy': 8,\n",
       " 'sciencefiction': 15,\n",
       " 'history': 10,\n",
       " 'war': 18,\n",
       " 'foreign': 9,\n",
       " 'mystery': 13,\n",
       " 'family': 7,\n",
       " 'documentary': 5,\n",
       " 'western': 19,\n",
       " 'music': 12,\n",
       " 'animation': 2,\n",
       " 'tvmovie': 17}"
      ]
     },
     "execution_count": 571,
     "metadata": {},
     "output_type": "execute_result"
    }
   ],
   "source": [
    "#Checking the vocabulary to see if all genres are there/no duplicates\n",
    "genre_vectorizer.vocabulary_"
   ]
  },
  {
   "cell_type": "code",
   "execution_count": 572,
   "metadata": {},
   "outputs": [
    {
     "name": "stderr",
     "output_type": "stream",
     "text": [
      "/Users/adelemartin/opt/anaconda3/lib/python3.9/site-packages/sklearn/utils/deprecation.py:87: FutureWarning: Function get_feature_names is deprecated; get_feature_names is deprecated in 1.0 and will be removed in 1.2. Please use get_feature_names_out instead.\n",
      "  warnings.warn(msg, category=FutureWarning)\n",
      "/Users/adelemartin/opt/anaconda3/lib/python3.9/site-packages/sklearn/utils/deprecation.py:87: FutureWarning: Function get_feature_names is deprecated; get_feature_names is deprecated in 1.0 and will be removed in 1.2. Please use get_feature_names_out instead.\n",
      "  warnings.warn(msg, category=FutureWarning)\n"
     ]
    }
   ],
   "source": [
    "male_genres = pd.DataFrame(male_genres, columns=genre_vectorizer.get_feature_names())\n",
    "female_genres = pd.DataFrame(female_genres, columns=genre_vectorizer.get_feature_names())"
   ]
  },
  {
   "attachments": {},
   "cell_type": "markdown",
   "metadata": {},
   "source": [
    "## Conducting NLP on Film Summary"
   ]
  },
  {
   "cell_type": "code",
   "execution_count": 573,
   "metadata": {},
   "outputs": [],
   "source": [
    "#I will use the stemmer and the ENGLISH_STOP_WORDS library to get rid of insignificant words and make my \n",
    "#recommender more robust\n",
    "\n",
    "\n",
    "text = films['overview']\n",
    "text_male = male_directed['overview']\n",
    "text_female = female_directed['overview']\n"
   ]
  },
  {
   "cell_type": "code",
   "execution_count": 574,
   "metadata": {},
   "outputs": [],
   "source": [
    "stemmer = EnglishStemmer()\n",
    "default_analyzer = CountVectorizer(stop_words=ENGLISH_STOP_WORDS).build_analyzer()\n"
   ]
  },
  {
   "cell_type": "code",
   "execution_count": 575,
   "metadata": {},
   "outputs": [],
   "source": [
    "def analyze_with_stemming(text):\n",
    "    unstemmed_words = default_analyzer(text)\n",
    "    return (stemmer.stem(word) for word in unstemmed_words)"
   ]
  },
  {
   "cell_type": "code",
   "execution_count": 576,
   "metadata": {},
   "outputs": [
    {
     "data": {
      "text/plain": [
       "0       An ugly duckling having undergone a remarkable...\n",
       "1       When a lawyer shows up at the vampire's doorst...\n",
       "2       Morgan Adams and her slave, William Shaw, are ...\n",
       "3       The life of the gambling paradise – Las Vegas ...\n",
       "4       Rich Mr. Dashwood dies, leaving his second wif...\n",
       "                              ...                        \n",
       "9574    The Sublet is a suspense driven psychological ...\n",
       "9575    A stranger named Silas flees from a devastatin...\n",
       "9576    Pretty, popular, and slim high-schooler Aly Sc...\n",
       "9577    Hyperactive teenager Kelly is enrolled into a ...\n",
       "9578    Yet another version of the classic epic, with ...\n",
       "Name: overview, Length: 9539, dtype: object"
      ]
     },
     "execution_count": 576,
     "metadata": {},
     "output_type": "execute_result"
    }
   ],
   "source": [
    "#Example of text before stemming\n",
    "text "
   ]
  },
  {
   "cell_type": "code",
   "execution_count": 577,
   "metadata": {},
   "outputs": [
    {
     "data": {
      "text/plain": [
       "['ugli',\n",
       " 'duckl',\n",
       " 'have',\n",
       " 'undergon',\n",
       " 'remark',\n",
       " 'chang',\n",
       " 'harbor',\n",
       " 'feel',\n",
       " 'crush',\n",
       " 'carefre',\n",
       " 'playboy',\n",
       " 'busi',\n",
       " 'focus',\n",
       " 'brother',\n",
       " 'say']"
      ]
     },
     "execution_count": 577,
     "metadata": {},
     "output_type": "execute_result"
    }
   ],
   "source": [
    "#Overview of what the stemming has done\n",
    "list(analyze_with_stemming(text[0]))"
   ]
  },
  {
   "cell_type": "code",
   "execution_count": 578,
   "metadata": {},
   "outputs": [],
   "source": [
    "stemmer_vectorizer = CountVectorizer(analyzer=analyze_with_stemming)"
   ]
  },
  {
   "cell_type": "code",
   "execution_count": 579,
   "metadata": {},
   "outputs": [],
   "source": [
    "#I am fitting on the films (including both genders)\n",
    "#and am transforming them seperately.\n",
    "\n",
    "vectors = stemmer_vectorizer.fit(text)\n",
    "male_vectorized = vectors.transform(text_male).todense()\n",
    "female_vectorized = vectors.transform(text_female).todense()"
   ]
  },
  {
   "cell_type": "code",
   "execution_count": 580,
   "metadata": {},
   "outputs": [],
   "source": [
    "vocabulary = vectors.get_feature_names_out()"
   ]
  },
  {
   "cell_type": "code",
   "execution_count": 616,
   "metadata": {},
   "outputs": [
    {
     "data": {
      "text/plain": [
       "array(['00', '000', '000th', ..., '주식회사', '찾기', '첫사랑'], dtype=object)"
      ]
     },
     "execution_count": 616,
     "metadata": {},
     "output_type": "execute_result"
    }
   ],
   "source": [
    "vocabulary"
   ]
  },
  {
   "cell_type": "code",
   "execution_count": 582,
   "metadata": {},
   "outputs": [],
   "source": [
    "male_vectorized = pd.DataFrame(male_vectorized, columns=vocabulary)\n",
    "female_vectorized = pd.DataFrame(female_vectorized, columns=vocabulary)"
   ]
  },
  {
   "cell_type": "code",
   "execution_count": 583,
   "metadata": {},
   "outputs": [
    {
     "data": {
      "text/html": [
       "<div>\n",
       "<style scoped>\n",
       "    .dataframe tbody tr th:only-of-type {\n",
       "        vertical-align: middle;\n",
       "    }\n",
       "\n",
       "    .dataframe tbody tr th {\n",
       "        vertical-align: top;\n",
       "    }\n",
       "\n",
       "    .dataframe thead th {\n",
       "        text-align: right;\n",
       "    }\n",
       "</style>\n",
       "<table border=\"1\" class=\"dataframe\">\n",
       "  <thead>\n",
       "    <tr style=\"text-align: right;\">\n",
       "      <th></th>\n",
       "      <th>00</th>\n",
       "      <th>000</th>\n",
       "      <th>000th</th>\n",
       "      <th>007</th>\n",
       "      <th>01</th>\n",
       "      <th>04</th>\n",
       "      <th>07am</th>\n",
       "      <th>10</th>\n",
       "      <th>100</th>\n",
       "      <th>1000</th>\n",
       "      <th>...</th>\n",
       "      <th>गल</th>\n",
       "      <th>ஆதவன</th>\n",
       "      <th>யப</th>\n",
       "      <th>ரம</th>\n",
       "      <th>ரமண</th>\n",
       "      <th>たけみかずち</th>\n",
       "      <th>ひめ</th>\n",
       "      <th>주식회사</th>\n",
       "      <th>찾기</th>\n",
       "      <th>첫사랑</th>\n",
       "    </tr>\n",
       "  </thead>\n",
       "  <tbody>\n",
       "    <tr>\n",
       "      <th>0</th>\n",
       "      <td>0</td>\n",
       "      <td>0</td>\n",
       "      <td>0</td>\n",
       "      <td>0</td>\n",
       "      <td>0</td>\n",
       "      <td>0</td>\n",
       "      <td>0</td>\n",
       "      <td>0</td>\n",
       "      <td>0</td>\n",
       "      <td>0</td>\n",
       "      <td>...</td>\n",
       "      <td>0</td>\n",
       "      <td>0</td>\n",
       "      <td>0</td>\n",
       "      <td>0</td>\n",
       "      <td>0</td>\n",
       "      <td>0</td>\n",
       "      <td>0</td>\n",
       "      <td>0</td>\n",
       "      <td>0</td>\n",
       "      <td>0</td>\n",
       "    </tr>\n",
       "    <tr>\n",
       "      <th>1</th>\n",
       "      <td>0</td>\n",
       "      <td>0</td>\n",
       "      <td>0</td>\n",
       "      <td>0</td>\n",
       "      <td>0</td>\n",
       "      <td>0</td>\n",
       "      <td>0</td>\n",
       "      <td>0</td>\n",
       "      <td>0</td>\n",
       "      <td>0</td>\n",
       "      <td>...</td>\n",
       "      <td>0</td>\n",
       "      <td>0</td>\n",
       "      <td>0</td>\n",
       "      <td>0</td>\n",
       "      <td>0</td>\n",
       "      <td>0</td>\n",
       "      <td>0</td>\n",
       "      <td>0</td>\n",
       "      <td>0</td>\n",
       "      <td>0</td>\n",
       "    </tr>\n",
       "    <tr>\n",
       "      <th>2</th>\n",
       "      <td>0</td>\n",
       "      <td>0</td>\n",
       "      <td>0</td>\n",
       "      <td>0</td>\n",
       "      <td>0</td>\n",
       "      <td>0</td>\n",
       "      <td>0</td>\n",
       "      <td>0</td>\n",
       "      <td>0</td>\n",
       "      <td>0</td>\n",
       "      <td>...</td>\n",
       "      <td>0</td>\n",
       "      <td>0</td>\n",
       "      <td>0</td>\n",
       "      <td>0</td>\n",
       "      <td>0</td>\n",
       "      <td>0</td>\n",
       "      <td>0</td>\n",
       "      <td>0</td>\n",
       "      <td>0</td>\n",
       "      <td>0</td>\n",
       "    </tr>\n",
       "    <tr>\n",
       "      <th>3</th>\n",
       "      <td>0</td>\n",
       "      <td>0</td>\n",
       "      <td>0</td>\n",
       "      <td>0</td>\n",
       "      <td>0</td>\n",
       "      <td>0</td>\n",
       "      <td>0</td>\n",
       "      <td>0</td>\n",
       "      <td>0</td>\n",
       "      <td>0</td>\n",
       "      <td>...</td>\n",
       "      <td>0</td>\n",
       "      <td>0</td>\n",
       "      <td>0</td>\n",
       "      <td>0</td>\n",
       "      <td>0</td>\n",
       "      <td>0</td>\n",
       "      <td>0</td>\n",
       "      <td>0</td>\n",
       "      <td>0</td>\n",
       "      <td>0</td>\n",
       "    </tr>\n",
       "    <tr>\n",
       "      <th>4</th>\n",
       "      <td>0</td>\n",
       "      <td>0</td>\n",
       "      <td>0</td>\n",
       "      <td>0</td>\n",
       "      <td>0</td>\n",
       "      <td>0</td>\n",
       "      <td>0</td>\n",
       "      <td>0</td>\n",
       "      <td>0</td>\n",
       "      <td>0</td>\n",
       "      <td>...</td>\n",
       "      <td>0</td>\n",
       "      <td>0</td>\n",
       "      <td>0</td>\n",
       "      <td>0</td>\n",
       "      <td>0</td>\n",
       "      <td>0</td>\n",
       "      <td>0</td>\n",
       "      <td>0</td>\n",
       "      <td>0</td>\n",
       "      <td>0</td>\n",
       "    </tr>\n",
       "    <tr>\n",
       "      <th>...</th>\n",
       "      <td>...</td>\n",
       "      <td>...</td>\n",
       "      <td>...</td>\n",
       "      <td>...</td>\n",
       "      <td>...</td>\n",
       "      <td>...</td>\n",
       "      <td>...</td>\n",
       "      <td>...</td>\n",
       "      <td>...</td>\n",
       "      <td>...</td>\n",
       "      <td>...</td>\n",
       "      <td>...</td>\n",
       "      <td>...</td>\n",
       "      <td>...</td>\n",
       "      <td>...</td>\n",
       "      <td>...</td>\n",
       "      <td>...</td>\n",
       "      <td>...</td>\n",
       "      <td>...</td>\n",
       "      <td>...</td>\n",
       "      <td>...</td>\n",
       "    </tr>\n",
       "    <tr>\n",
       "      <th>8876</th>\n",
       "      <td>0</td>\n",
       "      <td>0</td>\n",
       "      <td>0</td>\n",
       "      <td>0</td>\n",
       "      <td>0</td>\n",
       "      <td>0</td>\n",
       "      <td>0</td>\n",
       "      <td>0</td>\n",
       "      <td>0</td>\n",
       "      <td>0</td>\n",
       "      <td>...</td>\n",
       "      <td>0</td>\n",
       "      <td>0</td>\n",
       "      <td>0</td>\n",
       "      <td>0</td>\n",
       "      <td>0</td>\n",
       "      <td>0</td>\n",
       "      <td>0</td>\n",
       "      <td>0</td>\n",
       "      <td>0</td>\n",
       "      <td>0</td>\n",
       "    </tr>\n",
       "    <tr>\n",
       "      <th>8877</th>\n",
       "      <td>0</td>\n",
       "      <td>0</td>\n",
       "      <td>0</td>\n",
       "      <td>0</td>\n",
       "      <td>0</td>\n",
       "      <td>0</td>\n",
       "      <td>0</td>\n",
       "      <td>0</td>\n",
       "      <td>0</td>\n",
       "      <td>0</td>\n",
       "      <td>...</td>\n",
       "      <td>0</td>\n",
       "      <td>0</td>\n",
       "      <td>0</td>\n",
       "      <td>0</td>\n",
       "      <td>0</td>\n",
       "      <td>0</td>\n",
       "      <td>0</td>\n",
       "      <td>0</td>\n",
       "      <td>0</td>\n",
       "      <td>0</td>\n",
       "    </tr>\n",
       "    <tr>\n",
       "      <th>8878</th>\n",
       "      <td>0</td>\n",
       "      <td>0</td>\n",
       "      <td>0</td>\n",
       "      <td>0</td>\n",
       "      <td>0</td>\n",
       "      <td>0</td>\n",
       "      <td>0</td>\n",
       "      <td>0</td>\n",
       "      <td>0</td>\n",
       "      <td>0</td>\n",
       "      <td>...</td>\n",
       "      <td>0</td>\n",
       "      <td>0</td>\n",
       "      <td>0</td>\n",
       "      <td>0</td>\n",
       "      <td>0</td>\n",
       "      <td>0</td>\n",
       "      <td>0</td>\n",
       "      <td>0</td>\n",
       "      <td>0</td>\n",
       "      <td>0</td>\n",
       "    </tr>\n",
       "    <tr>\n",
       "      <th>8879</th>\n",
       "      <td>0</td>\n",
       "      <td>0</td>\n",
       "      <td>0</td>\n",
       "      <td>0</td>\n",
       "      <td>0</td>\n",
       "      <td>0</td>\n",
       "      <td>0</td>\n",
       "      <td>0</td>\n",
       "      <td>0</td>\n",
       "      <td>0</td>\n",
       "      <td>...</td>\n",
       "      <td>0</td>\n",
       "      <td>0</td>\n",
       "      <td>0</td>\n",
       "      <td>0</td>\n",
       "      <td>0</td>\n",
       "      <td>0</td>\n",
       "      <td>0</td>\n",
       "      <td>0</td>\n",
       "      <td>0</td>\n",
       "      <td>0</td>\n",
       "    </tr>\n",
       "    <tr>\n",
       "      <th>8880</th>\n",
       "      <td>0</td>\n",
       "      <td>0</td>\n",
       "      <td>0</td>\n",
       "      <td>0</td>\n",
       "      <td>0</td>\n",
       "      <td>0</td>\n",
       "      <td>0</td>\n",
       "      <td>0</td>\n",
       "      <td>0</td>\n",
       "      <td>0</td>\n",
       "      <td>...</td>\n",
       "      <td>0</td>\n",
       "      <td>0</td>\n",
       "      <td>0</td>\n",
       "      <td>0</td>\n",
       "      <td>0</td>\n",
       "      <td>0</td>\n",
       "      <td>0</td>\n",
       "      <td>0</td>\n",
       "      <td>0</td>\n",
       "      <td>0</td>\n",
       "    </tr>\n",
       "  </tbody>\n",
       "</table>\n",
       "<p>8881 rows × 25418 columns</p>\n",
       "</div>"
      ],
      "text/plain": [
       "      00  000  000th  007  01  04  07am  10  100  1000  ...  गल  ஆதவன  யப  ரம  \\\n",
       "0      0    0      0    0   0   0     0   0    0     0  ...   0     0   0   0   \n",
       "1      0    0      0    0   0   0     0   0    0     0  ...   0     0   0   0   \n",
       "2      0    0      0    0   0   0     0   0    0     0  ...   0     0   0   0   \n",
       "3      0    0      0    0   0   0     0   0    0     0  ...   0     0   0   0   \n",
       "4      0    0      0    0   0   0     0   0    0     0  ...   0     0   0   0   \n",
       "...   ..  ...    ...  ...  ..  ..   ...  ..  ...   ...  ...  ..   ...  ..  ..   \n",
       "8876   0    0      0    0   0   0     0   0    0     0  ...   0     0   0   0   \n",
       "8877   0    0      0    0   0   0     0   0    0     0  ...   0     0   0   0   \n",
       "8878   0    0      0    0   0   0     0   0    0     0  ...   0     0   0   0   \n",
       "8879   0    0      0    0   0   0     0   0    0     0  ...   0     0   0   0   \n",
       "8880   0    0      0    0   0   0     0   0    0     0  ...   0     0   0   0   \n",
       "\n",
       "      ரமண  たけみかずち  ひめ  주식회사  찾기  첫사랑  \n",
       "0       0       0   0     0   0    0  \n",
       "1       0       0   0     0   0    0  \n",
       "2       0       0   0     0   0    0  \n",
       "3       0       0   0     0   0    0  \n",
       "4       0       0   0     0   0    0  \n",
       "...   ...     ...  ..   ...  ..  ...  \n",
       "8876    0       0   0     0   0    0  \n",
       "8877    0       0   0     0   0    0  \n",
       "8878    0       0   0     0   0    0  \n",
       "8879    0       0   0     0   0    0  \n",
       "8880    0       0   0     0   0    0  \n",
       "\n",
       "[8881 rows x 25418 columns]"
      ]
     },
     "execution_count": 583,
     "metadata": {},
     "output_type": "execute_result"
    }
   ],
   "source": [
    "male_vectorized"
   ]
  },
  {
   "cell_type": "code",
   "execution_count": 584,
   "metadata": {},
   "outputs": [
    {
     "data": {
      "text/html": [
       "<div>\n",
       "<style scoped>\n",
       "    .dataframe tbody tr th:only-of-type {\n",
       "        vertical-align: middle;\n",
       "    }\n",
       "\n",
       "    .dataframe tbody tr th {\n",
       "        vertical-align: top;\n",
       "    }\n",
       "\n",
       "    .dataframe thead th {\n",
       "        text-align: right;\n",
       "    }\n",
       "</style>\n",
       "<table border=\"1\" class=\"dataframe\">\n",
       "  <thead>\n",
       "    <tr style=\"text-align: right;\">\n",
       "      <th></th>\n",
       "      <th>00</th>\n",
       "      <th>000</th>\n",
       "      <th>000th</th>\n",
       "      <th>007</th>\n",
       "      <th>01</th>\n",
       "      <th>04</th>\n",
       "      <th>07am</th>\n",
       "      <th>10</th>\n",
       "      <th>100</th>\n",
       "      <th>1000</th>\n",
       "      <th>...</th>\n",
       "      <th>गल</th>\n",
       "      <th>ஆதவன</th>\n",
       "      <th>யப</th>\n",
       "      <th>ரம</th>\n",
       "      <th>ரமண</th>\n",
       "      <th>たけみかずち</th>\n",
       "      <th>ひめ</th>\n",
       "      <th>주식회사</th>\n",
       "      <th>찾기</th>\n",
       "      <th>첫사랑</th>\n",
       "    </tr>\n",
       "  </thead>\n",
       "  <tbody>\n",
       "    <tr>\n",
       "      <th>0</th>\n",
       "      <td>0</td>\n",
       "      <td>0</td>\n",
       "      <td>0</td>\n",
       "      <td>0</td>\n",
       "      <td>0</td>\n",
       "      <td>0</td>\n",
       "      <td>0</td>\n",
       "      <td>0</td>\n",
       "      <td>0</td>\n",
       "      <td>0</td>\n",
       "      <td>...</td>\n",
       "      <td>0</td>\n",
       "      <td>0</td>\n",
       "      <td>0</td>\n",
       "      <td>0</td>\n",
       "      <td>0</td>\n",
       "      <td>0</td>\n",
       "      <td>0</td>\n",
       "      <td>0</td>\n",
       "      <td>0</td>\n",
       "      <td>0</td>\n",
       "    </tr>\n",
       "    <tr>\n",
       "      <th>1</th>\n",
       "      <td>0</td>\n",
       "      <td>0</td>\n",
       "      <td>0</td>\n",
       "      <td>0</td>\n",
       "      <td>0</td>\n",
       "      <td>0</td>\n",
       "      <td>0</td>\n",
       "      <td>0</td>\n",
       "      <td>0</td>\n",
       "      <td>0</td>\n",
       "      <td>...</td>\n",
       "      <td>0</td>\n",
       "      <td>0</td>\n",
       "      <td>0</td>\n",
       "      <td>0</td>\n",
       "      <td>0</td>\n",
       "      <td>0</td>\n",
       "      <td>0</td>\n",
       "      <td>0</td>\n",
       "      <td>0</td>\n",
       "      <td>0</td>\n",
       "    </tr>\n",
       "    <tr>\n",
       "      <th>2</th>\n",
       "      <td>0</td>\n",
       "      <td>0</td>\n",
       "      <td>0</td>\n",
       "      <td>0</td>\n",
       "      <td>0</td>\n",
       "      <td>0</td>\n",
       "      <td>0</td>\n",
       "      <td>0</td>\n",
       "      <td>0</td>\n",
       "      <td>0</td>\n",
       "      <td>...</td>\n",
       "      <td>0</td>\n",
       "      <td>0</td>\n",
       "      <td>0</td>\n",
       "      <td>0</td>\n",
       "      <td>0</td>\n",
       "      <td>0</td>\n",
       "      <td>0</td>\n",
       "      <td>0</td>\n",
       "      <td>0</td>\n",
       "      <td>0</td>\n",
       "    </tr>\n",
       "    <tr>\n",
       "      <th>3</th>\n",
       "      <td>0</td>\n",
       "      <td>0</td>\n",
       "      <td>0</td>\n",
       "      <td>0</td>\n",
       "      <td>0</td>\n",
       "      <td>0</td>\n",
       "      <td>0</td>\n",
       "      <td>0</td>\n",
       "      <td>0</td>\n",
       "      <td>0</td>\n",
       "      <td>...</td>\n",
       "      <td>0</td>\n",
       "      <td>0</td>\n",
       "      <td>0</td>\n",
       "      <td>0</td>\n",
       "      <td>0</td>\n",
       "      <td>0</td>\n",
       "      <td>0</td>\n",
       "      <td>0</td>\n",
       "      <td>0</td>\n",
       "      <td>0</td>\n",
       "    </tr>\n",
       "    <tr>\n",
       "      <th>4</th>\n",
       "      <td>0</td>\n",
       "      <td>0</td>\n",
       "      <td>0</td>\n",
       "      <td>0</td>\n",
       "      <td>0</td>\n",
       "      <td>0</td>\n",
       "      <td>0</td>\n",
       "      <td>0</td>\n",
       "      <td>0</td>\n",
       "      <td>0</td>\n",
       "      <td>...</td>\n",
       "      <td>0</td>\n",
       "      <td>0</td>\n",
       "      <td>0</td>\n",
       "      <td>0</td>\n",
       "      <td>0</td>\n",
       "      <td>0</td>\n",
       "      <td>0</td>\n",
       "      <td>0</td>\n",
       "      <td>0</td>\n",
       "      <td>0</td>\n",
       "    </tr>\n",
       "    <tr>\n",
       "      <th>...</th>\n",
       "      <td>...</td>\n",
       "      <td>...</td>\n",
       "      <td>...</td>\n",
       "      <td>...</td>\n",
       "      <td>...</td>\n",
       "      <td>...</td>\n",
       "      <td>...</td>\n",
       "      <td>...</td>\n",
       "      <td>...</td>\n",
       "      <td>...</td>\n",
       "      <td>...</td>\n",
       "      <td>...</td>\n",
       "      <td>...</td>\n",
       "      <td>...</td>\n",
       "      <td>...</td>\n",
       "      <td>...</td>\n",
       "      <td>...</td>\n",
       "      <td>...</td>\n",
       "      <td>...</td>\n",
       "      <td>...</td>\n",
       "      <td>...</td>\n",
       "    </tr>\n",
       "    <tr>\n",
       "      <th>652</th>\n",
       "      <td>0</td>\n",
       "      <td>0</td>\n",
       "      <td>0</td>\n",
       "      <td>0</td>\n",
       "      <td>0</td>\n",
       "      <td>0</td>\n",
       "      <td>0</td>\n",
       "      <td>0</td>\n",
       "      <td>0</td>\n",
       "      <td>0</td>\n",
       "      <td>...</td>\n",
       "      <td>0</td>\n",
       "      <td>0</td>\n",
       "      <td>0</td>\n",
       "      <td>0</td>\n",
       "      <td>0</td>\n",
       "      <td>0</td>\n",
       "      <td>0</td>\n",
       "      <td>0</td>\n",
       "      <td>0</td>\n",
       "      <td>0</td>\n",
       "    </tr>\n",
       "    <tr>\n",
       "      <th>653</th>\n",
       "      <td>0</td>\n",
       "      <td>0</td>\n",
       "      <td>0</td>\n",
       "      <td>0</td>\n",
       "      <td>0</td>\n",
       "      <td>0</td>\n",
       "      <td>0</td>\n",
       "      <td>0</td>\n",
       "      <td>0</td>\n",
       "      <td>0</td>\n",
       "      <td>...</td>\n",
       "      <td>0</td>\n",
       "      <td>0</td>\n",
       "      <td>0</td>\n",
       "      <td>0</td>\n",
       "      <td>0</td>\n",
       "      <td>0</td>\n",
       "      <td>0</td>\n",
       "      <td>0</td>\n",
       "      <td>0</td>\n",
       "      <td>0</td>\n",
       "    </tr>\n",
       "    <tr>\n",
       "      <th>654</th>\n",
       "      <td>0</td>\n",
       "      <td>0</td>\n",
       "      <td>0</td>\n",
       "      <td>0</td>\n",
       "      <td>0</td>\n",
       "      <td>0</td>\n",
       "      <td>0</td>\n",
       "      <td>0</td>\n",
       "      <td>0</td>\n",
       "      <td>0</td>\n",
       "      <td>...</td>\n",
       "      <td>0</td>\n",
       "      <td>0</td>\n",
       "      <td>0</td>\n",
       "      <td>0</td>\n",
       "      <td>0</td>\n",
       "      <td>0</td>\n",
       "      <td>0</td>\n",
       "      <td>0</td>\n",
       "      <td>0</td>\n",
       "      <td>0</td>\n",
       "    </tr>\n",
       "    <tr>\n",
       "      <th>655</th>\n",
       "      <td>0</td>\n",
       "      <td>0</td>\n",
       "      <td>0</td>\n",
       "      <td>0</td>\n",
       "      <td>0</td>\n",
       "      <td>0</td>\n",
       "      <td>0</td>\n",
       "      <td>0</td>\n",
       "      <td>0</td>\n",
       "      <td>0</td>\n",
       "      <td>...</td>\n",
       "      <td>0</td>\n",
       "      <td>0</td>\n",
       "      <td>0</td>\n",
       "      <td>0</td>\n",
       "      <td>0</td>\n",
       "      <td>0</td>\n",
       "      <td>0</td>\n",
       "      <td>0</td>\n",
       "      <td>0</td>\n",
       "      <td>0</td>\n",
       "    </tr>\n",
       "    <tr>\n",
       "      <th>656</th>\n",
       "      <td>0</td>\n",
       "      <td>0</td>\n",
       "      <td>0</td>\n",
       "      <td>0</td>\n",
       "      <td>0</td>\n",
       "      <td>0</td>\n",
       "      <td>0</td>\n",
       "      <td>0</td>\n",
       "      <td>0</td>\n",
       "      <td>0</td>\n",
       "      <td>...</td>\n",
       "      <td>0</td>\n",
       "      <td>0</td>\n",
       "      <td>0</td>\n",
       "      <td>0</td>\n",
       "      <td>0</td>\n",
       "      <td>0</td>\n",
       "      <td>0</td>\n",
       "      <td>0</td>\n",
       "      <td>0</td>\n",
       "      <td>0</td>\n",
       "    </tr>\n",
       "  </tbody>\n",
       "</table>\n",
       "<p>657 rows × 25418 columns</p>\n",
       "</div>"
      ],
      "text/plain": [
       "     00  000  000th  007  01  04  07am  10  100  1000  ...  गल  ஆதவன  யப  ரம  \\\n",
       "0     0    0      0    0   0   0     0   0    0     0  ...   0     0   0   0   \n",
       "1     0    0      0    0   0   0     0   0    0     0  ...   0     0   0   0   \n",
       "2     0    0      0    0   0   0     0   0    0     0  ...   0     0   0   0   \n",
       "3     0    0      0    0   0   0     0   0    0     0  ...   0     0   0   0   \n",
       "4     0    0      0    0   0   0     0   0    0     0  ...   0     0   0   0   \n",
       "..   ..  ...    ...  ...  ..  ..   ...  ..  ...   ...  ...  ..   ...  ..  ..   \n",
       "652   0    0      0    0   0   0     0   0    0     0  ...   0     0   0   0   \n",
       "653   0    0      0    0   0   0     0   0    0     0  ...   0     0   0   0   \n",
       "654   0    0      0    0   0   0     0   0    0     0  ...   0     0   0   0   \n",
       "655   0    0      0    0   0   0     0   0    0     0  ...   0     0   0   0   \n",
       "656   0    0      0    0   0   0     0   0    0     0  ...   0     0   0   0   \n",
       "\n",
       "     ரமண  たけみかずち  ひめ  주식회사  찾기  첫사랑  \n",
       "0      0       0   0     0   0    0  \n",
       "1      0       0   0     0   0    0  \n",
       "2      0       0   0     0   0    0  \n",
       "3      0       0   0     0   0    0  \n",
       "4      0       0   0     0   0    0  \n",
       "..   ...     ...  ..   ...  ..  ...  \n",
       "652    0       0   0     0   0    0  \n",
       "653    0       0   0     0   0    0  \n",
       "654    0       0   0     0   0    0  \n",
       "655    0       0   0     0   0    0  \n",
       "656    0       0   0     0   0    0  \n",
       "\n",
       "[657 rows x 25418 columns]"
      ]
     },
     "execution_count": 584,
     "metadata": {},
     "output_type": "execute_result"
    }
   ],
   "source": [
    "female_vectorized"
   ]
  },
  {
   "attachments": {},
   "cell_type": "markdown",
   "metadata": {},
   "source": [
    "## Normalizing Numerical Data: Popularity"
   ]
  },
  {
   "cell_type": "code",
   "execution_count": 585,
   "metadata": {},
   "outputs": [],
   "source": [
    "m_normalized_popularity = male_directed['popularity']\n",
    "f_normalized_popularity = female_directed['popularity']"
   ]
  },
  {
   "cell_type": "code",
   "execution_count": 586,
   "metadata": {},
   "outputs": [],
   "source": [
    "m_normalized_popularity = m_normalized_popularity.values.reshape(-1, 1)"
   ]
  },
  {
   "cell_type": "code",
   "execution_count": 587,
   "metadata": {},
   "outputs": [],
   "source": [
    "f_normalized_popularity = f_normalized_popularity.values.reshape(-1, 1)"
   ]
  },
  {
   "cell_type": "code",
   "execution_count": 588,
   "metadata": {},
   "outputs": [],
   "source": [
    "from sklearn.preprocessing import StandardScaler"
   ]
  },
  {
   "cell_type": "code",
   "execution_count": 589,
   "metadata": {},
   "outputs": [],
   "source": [
    "scaler = StandardScaler()\n",
    "m_normalized_popularity = scaler.fit_transform(m_normalized_popularity)\n",
    "f_normalized_popularity = scaler.fit_transform(f_normalized_popularity)"
   ]
  },
  {
   "cell_type": "code",
   "execution_count": 590,
   "metadata": {},
   "outputs": [],
   "source": [
    "m_normalized_popularity = pd.DataFrame(m_normalized_popularity)\n",
    "f_normalized_popularity = pd.DataFrame(f_normalized_popularity)"
   ]
  },
  {
   "cell_type": "code",
   "execution_count": null,
   "metadata": {},
   "outputs": [],
   "source": []
  },
  {
   "attachments": {},
   "cell_type": "markdown",
   "metadata": {},
   "source": [
    "## Normalizing Numerical Data: Year"
   ]
  },
  {
   "cell_type": "code",
   "execution_count": 591,
   "metadata": {},
   "outputs": [],
   "source": [
    "m_normalized_year = male_directed['year']\n",
    "f_normalized_year = female_directed['year']"
   ]
  },
  {
   "cell_type": "code",
   "execution_count": 592,
   "metadata": {},
   "outputs": [],
   "source": [
    "m_normalized_year = m_normalized_year.values.reshape(-1, 1)\n",
    "f_normalized_year = f_normalized_year.values.reshape(-1, 1)"
   ]
  },
  {
   "cell_type": "code",
   "execution_count": 593,
   "metadata": {},
   "outputs": [],
   "source": [
    "scaler = StandardScaler()\n",
    "m_normalized_year = scaler.fit_transform(m_normalized_year)\n",
    "f_normalized_year = scaler.fit_transform(f_normalized_year)"
   ]
  },
  {
   "cell_type": "code",
   "execution_count": 594,
   "metadata": {},
   "outputs": [],
   "source": [
    "m_normalized_year = pd.DataFrame(m_normalized_year)\n",
    "f_normalized_year = pd.DataFrame(f_normalized_year)"
   ]
  },
  {
   "cell_type": "code",
   "execution_count": 595,
   "metadata": {},
   "outputs": [
    {
     "data": {
      "text/html": [
       "<div>\n",
       "<style scoped>\n",
       "    .dataframe tbody tr th:only-of-type {\n",
       "        vertical-align: middle;\n",
       "    }\n",
       "\n",
       "    .dataframe tbody tr th {\n",
       "        vertical-align: top;\n",
       "    }\n",
       "\n",
       "    .dataframe thead th {\n",
       "        text-align: right;\n",
       "    }\n",
       "</style>\n",
       "<table border=\"1\" class=\"dataframe\">\n",
       "  <thead>\n",
       "    <tr style=\"text-align: right;\">\n",
       "      <th></th>\n",
       "      <th>0</th>\n",
       "    </tr>\n",
       "  </thead>\n",
       "  <tbody>\n",
       "    <tr>\n",
       "      <th>0</th>\n",
       "      <td>-0.668372</td>\n",
       "    </tr>\n",
       "    <tr>\n",
       "      <th>1</th>\n",
       "      <td>-0.668372</td>\n",
       "    </tr>\n",
       "    <tr>\n",
       "      <th>2</th>\n",
       "      <td>-0.668372</td>\n",
       "    </tr>\n",
       "    <tr>\n",
       "      <th>3</th>\n",
       "      <td>-0.743835</td>\n",
       "    </tr>\n",
       "    <tr>\n",
       "      <th>4</th>\n",
       "      <td>-0.743835</td>\n",
       "    </tr>\n",
       "    <tr>\n",
       "      <th>...</th>\n",
       "      <td>...</td>\n",
       "    </tr>\n",
       "    <tr>\n",
       "      <th>652</th>\n",
       "      <td>0.539039</td>\n",
       "    </tr>\n",
       "    <tr>\n",
       "      <th>653</th>\n",
       "      <td>0.765429</td>\n",
       "    </tr>\n",
       "    <tr>\n",
       "      <th>654</th>\n",
       "      <td>0.388113</td>\n",
       "    </tr>\n",
       "    <tr>\n",
       "      <th>655</th>\n",
       "      <td>0.916355</td>\n",
       "    </tr>\n",
       "    <tr>\n",
       "      <th>656</th>\n",
       "      <td>0.463576</td>\n",
       "    </tr>\n",
       "  </tbody>\n",
       "</table>\n",
       "<p>657 rows × 1 columns</p>\n",
       "</div>"
      ],
      "text/plain": [
       "            0\n",
       "0   -0.668372\n",
       "1   -0.668372\n",
       "2   -0.668372\n",
       "3   -0.743835\n",
       "4   -0.743835\n",
       "..        ...\n",
       "652  0.539039\n",
       "653  0.765429\n",
       "654  0.388113\n",
       "655  0.916355\n",
       "656  0.463576\n",
       "\n",
       "[657 rows x 1 columns]"
      ]
     },
     "execution_count": 595,
     "metadata": {},
     "output_type": "execute_result"
    }
   ],
   "source": [
    "f_normalized_year"
   ]
  },
  {
   "attachments": {},
   "cell_type": "markdown",
   "metadata": {},
   "source": [
    "## Normalizing Categorical Data"
   ]
  },
  {
   "cell_type": "code",
   "execution_count": 596,
   "metadata": {},
   "outputs": [],
   "source": [
    "#The 'l2' norm, also known as the Euclidean norm, refers to the length of a vector in a Euclidean space. \n",
    "normalizer = Normalizer(norm='l2')"
   ]
  },
  {
   "cell_type": "code",
   "execution_count": 597,
   "metadata": {},
   "outputs": [],
   "source": [
    "male_genres_overview = pd.concat([male_genres*3, male_vectorized], axis=1)\n",
    "female_genres_overview = pd.concat([female_genres*3, female_vectorized], axis=1)"
   ]
  },
  {
   "cell_type": "code",
   "execution_count": 598,
   "metadata": {},
   "outputs": [
    {
     "data": {
      "text/plain": [
       "array([[0., 0., 0., ..., 0., 0., 0.],\n",
       "       [0., 0., 0., ..., 0., 0., 0.],\n",
       "       [0., 0., 0., ..., 0., 0., 0.],\n",
       "       ...,\n",
       "       [0., 0., 0., ..., 0., 0., 0.],\n",
       "       [0., 0., 0., ..., 0., 0., 0.],\n",
       "       [0., 0., 0., ..., 0., 0., 0.]])"
      ]
     },
     "execution_count": 598,
     "metadata": {},
     "output_type": "execute_result"
    }
   ],
   "source": [
    "normalizer.fit_transform(male_genres_overview)\n",
    "normalizer.fit_transform(female_genres_overview)"
   ]
  },
  {
   "attachments": {},
   "cell_type": "markdown",
   "metadata": {},
   "source": [
    "## Concatenate and Create Dataframes Ready for Nearest Neighbors"
   ]
  },
  {
   "cell_type": "code",
   "execution_count": 619,
   "metadata": {},
   "outputs": [],
   "source": [
    "female_directed.reset_index(drop=True, inplace=True)\n",
    "male_directed.reset_index(inplace=True, drop=True,)"
   ]
  },
  {
   "cell_type": "code",
   "execution_count": 620,
   "metadata": {},
   "outputs": [],
   "source": [
    "female_movies = pd.concat([female_genres_overview, f_normalized_year], axis=1)\n",
    "male_movies = pd.concat([male_genres_overview, m_normalized_year], axis=1)\n"
   ]
  },
  {
   "cell_type": "code",
   "execution_count": 621,
   "metadata": {},
   "outputs": [
    {
     "name": "stderr",
     "output_type": "stream",
     "text": [
      "/Users/adelemartin/opt/anaconda3/lib/python3.9/site-packages/sklearn/utils/validation.py:1688: FutureWarning: Feature names only support names that are all strings. Got feature names with dtypes: ['int', 'str']. An error will be raised in 1.2.\n",
      "  warnings.warn(\n"
     ]
    },
    {
     "data": {
      "text/plain": [
       "NearestNeighbors()"
      ]
     },
     "execution_count": 621,
     "metadata": {},
     "output_type": "execute_result"
    }
   ],
   "source": [
    "n_neighbors = 5\n",
    "model = NearestNeighbors(n_neighbors=n_neighbors)\n",
    "model.fit(female_movies)\n"
   ]
  },
  {
   "cell_type": "code",
   "execution_count": 602,
   "metadata": {},
   "outputs": [
    {
     "name": "stderr",
     "output_type": "stream",
     "text": [
      "/Users/adelemartin/opt/anaconda3/lib/python3.9/site-packages/sklearn/utils/validation.py:1688: FutureWarning: Feature names only support names that are all strings. Got feature names with dtypes: ['int', 'str']. An error will be raised in 1.2.\n",
      "  warnings.warn(\n"
     ]
    }
   ],
   "source": [
    "distances, indices = model.kneighbors(male_movies[0:1])"
   ]
  },
  {
   "cell_type": "code",
   "execution_count": 603,
   "metadata": {},
   "outputs": [
    {
     "data": {
      "text/plain": [
       "array([[4.37565373, 4.47760083, 4.86625048, 4.90445207, 5.00000274]])"
      ]
     },
     "execution_count": 603,
     "metadata": {},
     "output_type": "execute_result"
    }
   ],
   "source": [
    "distances"
   ]
  },
  {
   "cell_type": "code",
   "execution_count": 604,
   "metadata": {},
   "outputs": [
    {
     "data": {
      "text/plain": [
       "array([[314, 651,   1, 284, 175]])"
      ]
     },
     "execution_count": 604,
     "metadata": {},
     "output_type": "execute_result"
    }
   ],
   "source": [
    "indices"
   ]
  },
  {
   "cell_type": "code",
   "execution_count": 605,
   "metadata": {},
   "outputs": [
    {
     "data": {
      "text/html": [
       "<div>\n",
       "<style scoped>\n",
       "    .dataframe tbody tr th:only-of-type {\n",
       "        vertical-align: middle;\n",
       "    }\n",
       "\n",
       "    .dataframe tbody tr th {\n",
       "        vertical-align: top;\n",
       "    }\n",
       "\n",
       "    .dataframe thead th {\n",
       "        text-align: right;\n",
       "    }\n",
       "</style>\n",
       "<table border=\"1\" class=\"dataframe\">\n",
       "  <thead>\n",
       "    <tr style=\"text-align: right;\">\n",
       "      <th></th>\n",
       "      <th>genres</th>\n",
       "      <th>id</th>\n",
       "      <th>overview</th>\n",
       "      <th>popularity</th>\n",
       "      <th>production_countries</th>\n",
       "      <th>title</th>\n",
       "      <th>year</th>\n",
       "      <th>director_gender</th>\n",
       "    </tr>\n",
       "  </thead>\n",
       "  <tbody>\n",
       "    <tr>\n",
       "      <th>0</th>\n",
       "      <td>Comedy, Romance</td>\n",
       "      <td>11860</td>\n",
       "      <td>An ugly duckling having undergone a remarkable...</td>\n",
       "      <td>6.677277</td>\n",
       "      <td>Germany, United States of America</td>\n",
       "      <td>Sabrina</td>\n",
       "      <td>1995</td>\n",
       "      <td>male</td>\n",
       "    </tr>\n",
       "    <tr>\n",
       "      <th>1</th>\n",
       "      <td>Comedy, Horror</td>\n",
       "      <td>12110</td>\n",
       "      <td>When a lawyer shows up at the vampire's doorst...</td>\n",
       "      <td>5.430331</td>\n",
       "      <td>France, United States of America</td>\n",
       "      <td>Dracula: Dead and Loving It</td>\n",
       "      <td>1995</td>\n",
       "      <td>male</td>\n",
       "    </tr>\n",
       "    <tr>\n",
       "      <th>2</th>\n",
       "      <td>Action, Adventure</td>\n",
       "      <td>1408</td>\n",
       "      <td>Morgan Adams and her slave, William Shaw, are ...</td>\n",
       "      <td>7.284477</td>\n",
       "      <td>Germany, France, Italy, United States of America</td>\n",
       "      <td>Cutthroat Island</td>\n",
       "      <td>1995</td>\n",
       "      <td>male</td>\n",
       "    </tr>\n",
       "    <tr>\n",
       "      <th>3</th>\n",
       "      <td>Drama, Crime</td>\n",
       "      <td>524</td>\n",
       "      <td>The life of the gambling paradise – Las Vegas ...</td>\n",
       "      <td>10.137389</td>\n",
       "      <td>France, United States of America</td>\n",
       "      <td>Casino</td>\n",
       "      <td>1995</td>\n",
       "      <td>male</td>\n",
       "    </tr>\n",
       "    <tr>\n",
       "      <th>4</th>\n",
       "      <td>Drama, Romance</td>\n",
       "      <td>4584</td>\n",
       "      <td>Rich Mr. Dashwood dies, leaving his second wif...</td>\n",
       "      <td>10.673167</td>\n",
       "      <td>United Kingdom, United States of America</td>\n",
       "      <td>Sense and Sensibility</td>\n",
       "      <td>1995</td>\n",
       "      <td>male</td>\n",
       "    </tr>\n",
       "    <tr>\n",
       "      <th>...</th>\n",
       "      <td>...</td>\n",
       "      <td>...</td>\n",
       "      <td>...</td>\n",
       "      <td>...</td>\n",
       "      <td>...</td>\n",
       "      <td>...</td>\n",
       "      <td>...</td>\n",
       "      <td>...</td>\n",
       "    </tr>\n",
       "    <tr>\n",
       "      <th>8876</th>\n",
       "      <td>Drama, Thriller, Mystery, Horror</td>\n",
       "      <td>365432</td>\n",
       "      <td>The Sublet is a suspense driven psychological ...</td>\n",
       "      <td>1.339355</td>\n",
       "      <td>Canada</td>\n",
       "      <td>The Sublet</td>\n",
       "      <td>2015</td>\n",
       "      <td>male</td>\n",
       "    </tr>\n",
       "    <tr>\n",
       "      <th>8877</th>\n",
       "      <td>Action, Thriller, Mystery, Horror</td>\n",
       "      <td>45527</td>\n",
       "      <td>A stranger named Silas flees from a devastatin...</td>\n",
       "      <td>1.270832</td>\n",
       "      <td>Germany, Canada</td>\n",
       "      <td>The Final Storm</td>\n",
       "      <td>2010</td>\n",
       "      <td>male</td>\n",
       "    </tr>\n",
       "    <tr>\n",
       "      <th>8878</th>\n",
       "      <td>Drama, Family, TVMovie</td>\n",
       "      <td>39562</td>\n",
       "      <td>Pretty, popular, and slim high-schooler Aly Sc...</td>\n",
       "      <td>0.767762</td>\n",
       "      <td>Canada</td>\n",
       "      <td>To Be Fat Like Me</td>\n",
       "      <td>2007</td>\n",
       "      <td>male</td>\n",
       "    </tr>\n",
       "    <tr>\n",
       "      <th>8879</th>\n",
       "      <td>Comedy</td>\n",
       "      <td>14008</td>\n",
       "      <td>Hyperactive teenager Kelly is enrolled into a ...</td>\n",
       "      <td>4.392389</td>\n",
       "      <td>United States of America, Canada</td>\n",
       "      <td>Cadet Kelly</td>\n",
       "      <td>2002</td>\n",
       "      <td>male</td>\n",
       "    </tr>\n",
       "    <tr>\n",
       "      <th>8880</th>\n",
       "      <td>Action, Drama, Romance</td>\n",
       "      <td>30840</td>\n",
       "      <td>Yet another version of the classic epic, with ...</td>\n",
       "      <td>5.683753</td>\n",
       "      <td>Germany, United Kingdom, United States of Amer...</td>\n",
       "      <td>Robin Hood</td>\n",
       "      <td>1991</td>\n",
       "      <td>male</td>\n",
       "    </tr>\n",
       "  </tbody>\n",
       "</table>\n",
       "<p>8881 rows × 8 columns</p>\n",
       "</div>"
      ],
      "text/plain": [
       "                                 genres      id  \\\n",
       "0                       Comedy, Romance   11860   \n",
       "1                        Comedy, Horror   12110   \n",
       "2                     Action, Adventure    1408   \n",
       "3                          Drama, Crime     524   \n",
       "4                        Drama, Romance    4584   \n",
       "...                                 ...     ...   \n",
       "8876   Drama, Thriller, Mystery, Horror  365432   \n",
       "8877  Action, Thriller, Mystery, Horror   45527   \n",
       "8878             Drama, Family, TVMovie   39562   \n",
       "8879                             Comedy   14008   \n",
       "8880             Action, Drama, Romance   30840   \n",
       "\n",
       "                                               overview  popularity  \\\n",
       "0     An ugly duckling having undergone a remarkable...    6.677277   \n",
       "1     When a lawyer shows up at the vampire's doorst...    5.430331   \n",
       "2     Morgan Adams and her slave, William Shaw, are ...    7.284477   \n",
       "3     The life of the gambling paradise – Las Vegas ...   10.137389   \n",
       "4     Rich Mr. Dashwood dies, leaving his second wif...   10.673167   \n",
       "...                                                 ...         ...   \n",
       "8876  The Sublet is a suspense driven psychological ...    1.339355   \n",
       "8877  A stranger named Silas flees from a devastatin...    1.270832   \n",
       "8878  Pretty, popular, and slim high-schooler Aly Sc...    0.767762   \n",
       "8879  Hyperactive teenager Kelly is enrolled into a ...    4.392389   \n",
       "8880  Yet another version of the classic epic, with ...    5.683753   \n",
       "\n",
       "                                   production_countries  \\\n",
       "0                     Germany, United States of America   \n",
       "1                      France, United States of America   \n",
       "2      Germany, France, Italy, United States of America   \n",
       "3                      France, United States of America   \n",
       "4              United Kingdom, United States of America   \n",
       "...                                                 ...   \n",
       "8876                                             Canada   \n",
       "8877                                    Germany, Canada   \n",
       "8878                                             Canada   \n",
       "8879                   United States of America, Canada   \n",
       "8880  Germany, United Kingdom, United States of Amer...   \n",
       "\n",
       "                            title  year director_gender  \n",
       "0                         Sabrina  1995            male  \n",
       "1     Dracula: Dead and Loving It  1995            male  \n",
       "2                Cutthroat Island  1995            male  \n",
       "3                          Casino  1995            male  \n",
       "4           Sense and Sensibility  1995            male  \n",
       "...                           ...   ...             ...  \n",
       "8876                   The Sublet  2015            male  \n",
       "8877              The Final Storm  2010            male  \n",
       "8878            To Be Fat Like Me  2007            male  \n",
       "8879                  Cadet Kelly  2002            male  \n",
       "8880                   Robin Hood  1991            male  \n",
       "\n",
       "[8881 rows x 8 columns]"
      ]
     },
     "execution_count": 605,
     "metadata": {},
     "output_type": "execute_result"
    }
   ],
   "source": [
    "male_directed"
   ]
  },
  {
   "attachments": {},
   "cell_type": "markdown",
   "metadata": {},
   "source": [
    "## User interface"
   ]
  },
  {
   "cell_type": "code",
   "execution_count": 623,
   "metadata": {},
   "outputs": [
    {
     "name": "stdout",
     "output_type": "stream",
     "text": [
      "Sorry, this movie is not in our database. Here are 10 random ones from male directors:\n",
      "Patrick\n",
      "Good-for-Nothing\n",
      "Flight Crew\n",
      "The Inextinguishable Fire\n",
      "United\n",
      "Grave of the Fireflies\n",
      "Opera Jawa\n",
      "Nostalgia for the Light\n",
      "Mysteries of Lisbon\n",
      "West\n"
     ]
    }
   ],
   "source": [
    "import random\n",
    "\n",
    "def get_title_and_overview_from_index(index, dataset):\n",
    "    matching_records = dataset[dataset.index == index]\n",
    "    return matching_records[['title', 'overview', 'genres', 'year', 'production_countries','popularity']]\n",
    "\n",
    "def get_index_from_title(title, dataset):\n",
    "    matching_records = dataset[dataset.title == title]\n",
    "    return matching_records.index[0] if len(matching_records) > 0 else None\n",
    "\n",
    "user_title = input(\"Please enter a movie: \")\n",
    "user_movie_index = get_index_from_title(user_title, male_directed)\n",
    "\n",
    "if user_movie_index is None:\n",
    "    print(\"Sorry, this movie is not in our database. Here are 10 random ones from male directors:\")\n",
    "    random_titles = male_directed.sample(10)['title'].values\n",
    "    for title in random_titles:\n",
    "        print(title)\n",
    "else:\n",
    "    user_movie_details = get_title_and_overview_from_index(user_movie_index, male_directed)\n",
    "    indices = get_index_from_title(user_title, male_directed)\n",
    "\n",
    "    distances, indices = model.kneighbors(male_movies.iloc[indices:indices+1])\n",
    "    recommended_records = [get_title_and_overview_from_index(index, female_directed) for index in indices[0]]\n",
    "\n",
    "    print(\"Movie Entered by User:\")\n",
    "    print('Title:', user_movie_details['title'].values[0])\n",
    "    print(\"Overview:\", user_movie_details['overview'].values[0])\n",
    "    print('Genres:', user_movie_details['genres'].values[0])\n",
    "    print('Year:', user_movie_details['year'].values[0])\n",
    "    print('Countri(es):', user_movie_details['production_countries'].values[0])\n",
    "    print('Popularity:', user_movie_details['popularity'].values[0])\n",
    "    print()\n",
    "\n",
    "    for record in recommended_records:\n",
    "        print(\"Recommended Movie:\")\n",
    "        print('Title:', record['title'].values[0])\n",
    "        print(\"Overview:\", record['overview'].values[0])\n",
    "        print('Genres:', record['genres'].values[0])\n",
    "        print('Year:', record['year'].values[0])\n",
    "        print('Countri(es):', record['production_countries'].values[0])\n",
    "        print('Popularity:', record['popularity'].values[0])\n",
    "        print()"
   ]
  },
  {
   "cell_type": "code",
   "execution_count": 625,
   "metadata": {},
   "outputs": [
    {
     "name": "stderr",
     "output_type": "stream",
     "text": [
      "/Users/adelemartin/opt/anaconda3/lib/python3.9/site-packages/sklearn/utils/validation.py:1688: FutureWarning: Feature names only support names that are all strings. Got feature names with dtypes: ['int', 'str']. An error will be raised in 1.2.\n",
      "  warnings.warn(\n"
     ]
    },
    {
     "name": "stdout",
     "output_type": "stream",
     "text": [
      "Movie Entered by User:\n",
      "Title: Othello\n",
      "Overview: The evil Iago pretends to be friend of Othello in order to manipulate him to serve his own end in the film version of this Shakespeare classic.\n",
      "Genres: Drama\n",
      "Year: 1995\n",
      "Countries: Italy\n",
      "Popularity: 1.845899\n",
      "\n",
      "Recommended Movie:\n",
      "Title: May in the Summer\n",
      "Overview: A bride-to-be is forced to reevaluate her life when she reunites with her family in Jordan and finds herself confronted with the aftermath of her parents’ divorce.\n",
      "Genres: Comedy, Drama\n",
      "Year: 2013\n",
      "Countries: United States of America, Qatar\n",
      "Popularity: 4.487643\n",
      "\n",
      "Recommended Movie:\n",
      "Title: La Pointe-Courte\n",
      "Overview: The troubled relationship of a married couple on vacation brushes beside the ongoing conflict between fishing families and the authorities in La Pointe-Courte, Séte.\n",
      "Genres: Drama, Romance\n",
      "Year: 1955\n",
      "Countries: France\n",
      "Popularity: 0.478364\n",
      "\n",
      "Recommended Movie:\n",
      "Title: Somersault\n",
      "Overview: Australian teenager Heidi is left with little choice but to leave home after she's caught red-handed with her mother's boyfriend. With few options, Heidi ends up in Jindabyne, a tourist community. Upon meeting Joe at a bar, she pursues a relationship with him and tries to find something resembling a normal home life. Heidi makes small strides by getting a job and finding a place to stay, but her relationship with Joe must overcome more than its share of hurdles.\n",
      "Genres: Drama, Romance\n",
      "Year: 2004\n",
      "Countries: Australia\n",
      "Popularity: 1.623367\n",
      "\n",
      "Recommended Movie:\n",
      "Title: Night Games\n",
      "Overview: Jan (Keve Hjelm) fights impotence (literal and symbolic) and anguished childhood memories in a decadent Swedish castle where risqué parties and daring scenes defy 1960s' movie censorship, reaffirming the ground-breaking role of Swedish films in helping advance adult, sexually concerned themes in international cinema.\n",
      "Genres: Drama\n",
      "Year: 1966\n",
      "Countries: Sweden, Sweden\n",
      "Popularity: 0.378035\n",
      "\n",
      "Recommended Movie:\n",
      "Title: All I Wanna Do\n",
      "Overview: If there's one thing this wild group of friends at an all-girls high school has learned, it's how to get what they want! So when word leaks out that their school is about to merge with an all-boys academy, some of the students strike back... and the girls wage an all-out assault in an outrageous battle of the sexes!\n",
      "Genres: Comedy\n",
      "Year: 1998\n",
      "Countries: Italy, United States of America, Canada\n",
      "Popularity: 1.983933\n",
      "\n"
     ]
    }
   ],
   "source": [
    "def get_title_and_overview_from_index(index, dataset):\n",
    "    matching_records = dataset[dataset.index == index]\n",
    "    return matching_records[['title', 'overview', 'genres', 'year', 'production_countries', 'popularity']]\n",
    "\n",
    "def get_index_from_title(title, dataset):\n",
    "    matching_records = dataset[dataset.title == title]\n",
    "    return matching_records.index[0] if len(matching_records) > 0 else None\n",
    "\n",
    "user_title = input(\"Please enter a movie: \")\n",
    "user_movie_index = get_index_from_title(user_title, male_directed)\n",
    "\n",
    "if user_movie_index is None:\n",
    "    print(\"Sorry, this movie is not in our database. Here are some suggestions:\")\n",
    "    suggested_movies = male_directed.head(10)\n",
    "    for index, record in suggested_movies.iterrows():\n",
    "        print('Title:', record['title'])\n",
    "        print('Overview:', record['overview'])\n",
    "        print('Genres:', record['genres'])\n",
    "        print('Year:', record['year'])\n",
    "        print('Countries:', record['production_countries'])\n",
    "        print('Popularity:', record['popularity'])\n",
    "        print()\n",
    "else:\n",
    "    user_movie_details = get_title_and_overview_from_index(user_movie_index, male_directed)\n",
    "\n",
    "    indices = get_index_from_title(user_title, male_directed)\n",
    "\n",
    "    distances, indices = model.kneighbors(male_movies.iloc[indices:indices+1])\n",
    "    recommended_records = [get_title_and_overview_from_index(index, female_directed) for index in indices[0]]\n",
    "\n",
    "    print(\"Movie Entered by User:\")\n",
    "    print('Title:', user_movie_details['title'].values[0])\n",
    "    print(\"Overview:\", user_movie_details['overview'].values[0])\n",
    "    print('Genres:', user_movie_details['genres'].values[0])\n",
    "    print('Year:', user_movie_details['year'].values[0])\n",
    "    print('Countries:', user_movie_details['production_countries'].values[0])\n",
    "    print('Popularity:', user_movie_details['popularity'].values[0])\n",
    "    print()\n",
    "\n",
    "    for record in recommended_records:\n",
    "        print(\"Recommended Movie:\")\n",
    "        print('Title:', record['title'].values[0])\n",
    "        print(\"Overview:\", record['overview'].values[0])\n",
    "        print('Genres:', record['genres'].values[0])\n",
    "        print('Year:', record['year'].values[0])\n",
    "        print('Countries:', record['production_countries'].values[0])\n",
    "        print('Popularity:', record['popularity'].values[0])\n",
    "        print()"
   ]
  }
 ],
 "metadata": {
  "kernelspec": {
   "display_name": "base",
   "language": "python",
   "name": "python3"
  },
  "language_info": {
   "codemirror_mode": {
    "name": "ipython",
    "version": 3
   },
   "file_extension": ".py",
   "mimetype": "text/x-python",
   "name": "python",
   "nbconvert_exporter": "python",
   "pygments_lexer": "ipython3",
   "version": "3.9.13"
  },
  "orig_nbformat": 4
 },
 "nbformat": 4,
 "nbformat_minor": 2
}
