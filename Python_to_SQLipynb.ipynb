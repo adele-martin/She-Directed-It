{
 "cells": [
  {
   "attachments": {},
   "cell_type": "markdown",
   "metadata": {},
   "source": [
    "## Importing Libraries"
   ]
  },
  {
   "cell_type": "code",
   "execution_count": 1,
   "metadata": {},
   "outputs": [],
   "source": [
    "import pandas as pd\n",
    "films = pd.read_csv('films_clean.csv')"
   ]
  },
  {
   "cell_type": "code",
   "execution_count": 2,
   "metadata": {},
   "outputs": [],
   "source": [
    "films.rename(columns= {'id':'film_id', 'title': 'film_title'}, inplace=True)"
   ]
  },
  {
   "attachments": {},
   "cell_type": "markdown",
   "metadata": {},
   "source": [
    "## Fixing the genres column for my SQL database"
   ]
  },
  {
   "cell_type": "code",
   "execution_count": 3,
   "metadata": {},
   "outputs": [],
   "source": [
    "#I created a genre ID in order to do my EDA\n",
    "films_ = films.copy()\n",
    "films_['genres'] = films_['genres'].str.split(',')"
   ]
  },
  {
   "cell_type": "code",
   "execution_count": 4,
   "metadata": {},
   "outputs": [],
   "source": [
    "films_exploded = films_.explode('genres')"
   ]
  },
  {
   "cell_type": "code",
   "execution_count": 5,
   "metadata": {},
   "outputs": [],
   "source": [
    "films_['genres'] = films_['genres'].str.split(',')"
   ]
  },
  {
   "cell_type": "code",
   "execution_count": 6,
   "metadata": {},
   "outputs": [],
   "source": [
    "genres_table = pd.DataFrame(columns = ['genre_id','genre'])\n",
    "for i, genre in enumerate(set(films_exploded['genres'].str.strip())):\n",
    "    genres_table.loc[i] = {'genre_id':i, 'genre':genre}\n",
    "\n",
    "genres_table.drop_duplicates(inplace=True)"
   ]
  },
  {
   "cell_type": "code",
   "execution_count": 7,
   "metadata": {},
   "outputs": [],
   "source": [
    "film_genre_table = films_exploded\n",
    "films_exploded['genres'] = films_exploded['genres'].str.strip()\n",
    "film_genre_table = film_genre_table.merge(genres_table, left_on='genres', right_on='genre')\n",
    "film_genre_table = film_genre_table[['film_id','genre_id', 'director_gender']]"
   ]
  },
  {
   "attachments": {},
   "cell_type": "markdown",
   "metadata": {},
   "source": [
    "## Fixing the countries column for my SQL database"
   ]
  },
  {
   "cell_type": "code",
   "execution_count": 8,
   "metadata": {},
   "outputs": [],
   "source": [
    "films_['production_countries'] = films_['production_countries'].str.split(',')"
   ]
  },
  {
   "cell_type": "code",
   "execution_count": 9,
   "metadata": {},
   "outputs": [],
   "source": [
    "films_exploded_countries = films_.explode('production_countries')"
   ]
  },
  {
   "cell_type": "code",
   "execution_count": 10,
   "metadata": {},
   "outputs": [],
   "source": [
    "countries_table = pd.DataFrame(columns = ['country_id','country'])\n",
    "for i, country in enumerate(set(films_exploded_countries['production_countries'].str.strip())):\n",
    "    countries_table.loc[i] = {'country_id':i, 'country':country}"
   ]
  },
  {
   "cell_type": "code",
   "execution_count": 11,
   "metadata": {},
   "outputs": [],
   "source": [
    "film_country_table = films_exploded_countries\n",
    "films_exploded_countries['production_countries'] = films_exploded_countries['production_countries'].str.strip()\n",
    "film_country_table = film_country_table.merge(countries_table, left_on='production_countries', right_on='country')\n",
    "film_country_table = film_country_table[['film_id','country_id', 'director_gender']]"
   ]
  },
  {
   "attachments": {},
   "cell_type": "markdown",
   "metadata": {},
   "source": [
    "## Creating new IDs for my SQL database"
   ]
  },
  {
   "attachments": {},
   "cell_type": "markdown",
   "metadata": {},
   "source": [
    "## Directors"
   ]
  },
  {
   "cell_type": "code",
   "execution_count": 12,
   "metadata": {},
   "outputs": [],
   "source": [
    "films['director_id'] = pd.factorize(films['director'])[0]+1"
   ]
  },
  {
   "attachments": {},
   "cell_type": "markdown",
   "metadata": {},
   "source": [
    "## Ratings"
   ]
  },
  {
   "cell_type": "code",
   "execution_count": 13,
   "metadata": {},
   "outputs": [],
   "source": [
    "films['rating_id'] = pd.factorize(films['popularity'])[0]+1"
   ]
  },
  {
   "attachments": {},
   "cell_type": "markdown",
   "metadata": {},
   "source": [
    "## Creating new dataframes"
   ]
  },
  {
   "attachments": {},
   "cell_type": "markdown",
   "metadata": {},
   "source": [
    "## Films"
   ]
  },
  {
   "cell_type": "code",
   "execution_count": 14,
   "metadata": {},
   "outputs": [],
   "source": [
    "#I am making a copy everytime to make sure I don't edit my original dataframe\n",
    "films_table = films[['film_id', 'film_title','original_language', 'overview', 'year', 'popularity', 'director_id', \"spoken_languages\"]].copy()\n",
    "films_table.drop_duplicates(inplace=True)\n"
   ]
  },
  {
   "attachments": {},
   "cell_type": "markdown",
   "metadata": {},
   "source": [
    "## Ratings"
   ]
  },
  {
   "cell_type": "code",
   "execution_count": 15,
   "metadata": {},
   "outputs": [],
   "source": [
    "ratings = films[['film_id', 'popularity', 'rating_id']].copy()\n",
    "ratings.drop_duplicates(inplace=True)"
   ]
  },
  {
   "attachments": {},
   "cell_type": "markdown",
   "metadata": {},
   "source": [
    "## Directors"
   ]
  },
  {
   "cell_type": "code",
   "execution_count": 16,
   "metadata": {},
   "outputs": [],
   "source": [
    "directors = films[['director_id', 'director_gender', 'director', 'film_id']].copy()\n",
    "directors.drop_duplicates(inplace=True)"
   ]
  },
  {
   "attachments": {},
   "cell_type": "markdown",
   "metadata": {},
   "source": [
    "## Exporting to SQL"
   ]
  },
  {
   "cell_type": "code",
   "execution_count": 17,
   "metadata": {},
   "outputs": [],
   "source": [
    "\n",
    "import pymysql.cursors\n",
    "from sqlalchemy import create_engine\n",
    "from sqlalchemy import text\n",
    "\n",
    "\n",
    "import getpass\n",
    "sql_pass = getpass.getpass()\n",
    "\n",
    "\n",
    "connection_string = 'mysql+pymysql://root:' + sql_pass + '@localhost:3306/film_data'\n",
    "engine = create_engine(connection_string)"
   ]
  },
  {
   "cell_type": "code",
   "execution_count": 18,
   "metadata": {},
   "outputs": [],
   "source": [
    "\n",
    "\n",
    "genres_table.to_sql('genres',engine, 'film_data', if_exists='replace', index=False)\n",
    "countries_table.to_sql('countries', engine,'film_data', if_exists='replace', index=False)\n",
    "directors.to_sql('directors',engine, 'film_data', if_exists='replace', index=False)\n",
    "film_genre_table.to_sql('film_genre',engine, 'film_data', if_exists='replace', index=False)\n",
    "films_table.to_sql('films',engine, 'film_data', if_exists='replace', index=False)\n",
    "film_country_table.to_sql('film_country',engine, 'film_data', if_exists='replace', index=False)\n",
    "\n",
    "\n"
   ]
  },
  {
   "attachments": {},
   "cell_type": "markdown",
   "metadata": {},
   "source": [
    "## Exporting to CSVs "
   ]
  },
  {
   "cell_type": "code",
   "execution_count": 19,
   "metadata": {},
   "outputs": [],
   "source": [
    "films.to_csv('films_clean.csv', index=False)"
   ]
  },
  {
   "cell_type": "code",
   "execution_count": 20,
   "metadata": {},
   "outputs": [],
   "source": [
    "film_genre_table.to_csv('film_genres.csv', index=False)"
   ]
  },
  {
   "cell_type": "code",
   "execution_count": 21,
   "metadata": {},
   "outputs": [],
   "source": [
    "genres_table.to_csv('genres_names.csv', index=False)"
   ]
  },
  {
   "cell_type": "code",
   "execution_count": 22,
   "metadata": {},
   "outputs": [],
   "source": [
    "film_country_table.to_csv('film_country.csv', index=False)"
   ]
  },
  {
   "cell_type": "code",
   "execution_count": 23,
   "metadata": {},
   "outputs": [],
   "source": [
    "countries_table.to_csv('countries_names.csv', index=False)"
   ]
  }
 ],
 "metadata": {
  "kernelspec": {
   "display_name": "base",
   "language": "python",
   "name": "python3"
  },
  "language_info": {
   "codemirror_mode": {
    "name": "ipython",
    "version": 3
   },
   "file_extension": ".py",
   "mimetype": "text/x-python",
   "name": "python",
   "nbconvert_exporter": "python",
   "pygments_lexer": "ipython3",
   "version": "3.9.13"
  },
  "orig_nbformat": 4
 },
 "nbformat": 4,
 "nbformat_minor": 2
}
